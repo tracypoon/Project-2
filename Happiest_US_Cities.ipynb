{
 "cells": [
  {
   "cell_type": "code",
   "execution_count": 1,
   "id": "e5aeabf9",
   "metadata": {},
   "outputs": [],
   "source": [
    "#Importing Dependencies\n",
    "import requests\n",
    "import pandas as pd"
   ]
  },
  {
   "cell_type": "code",
   "execution_count": null,
   "id": "89c9c56e",
   "metadata": {},
   "outputs": [],
   "source": [
    "#Getting the table from the webpage into Dataframe format\n",
    "url = 'https://wallethub.com/edu/happiest-places-to-live/32619'\n",
    "html = requests.get(url).content\n",
    "df_list = pd.read_html(html)\n",
    "df = df_list[0]\n",
    "print(df)"
   ]
  },
  {
   "cell_type": "code",
   "execution_count": null,
   "id": "bb0cec24",
   "metadata": {},
   "outputs": [],
   "source": [
    "#writting the dataframe to csv format\n",
    "df.to_csv('happyUScities.csv')"
   ]
  },
  {
   "cell_type": "code",
   "execution_count": null,
   "id": "1e689795",
   "metadata": {},
   "outputs": [],
   "source": []
  }
 ],
 "metadata": {
  "kernelspec": {
   "display_name": "Python 3 (ipykernel)",
   "language": "python",
   "name": "python3"
  },
  "language_info": {
   "codemirror_mode": {
    "name": "ipython",
    "version": 3
   },
   "file_extension": ".py",
   "mimetype": "text/x-python",
   "name": "python",
   "nbconvert_exporter": "python",
   "pygments_lexer": "ipython3",
   "version": "3.9.7"
  }
 },
 "nbformat": 4,
 "nbformat_minor": 5
}
